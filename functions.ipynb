{
 "cells": [
  {
   "cell_type": "markdown",
   "metadata": {},
   "source": [
    "Funções para cada módulo da interface"
   ]
  },
  {
   "cell_type": "code",
   "execution_count": 2,
   "metadata": {},
   "outputs": [],
   "source": [
    "import json\n",
    "import plotly.express as px\n",
    "import pandas as pd"
   ]
  },
  {
   "cell_type": "code",
   "execution_count": null,
   "metadata": {},
   "outputs": [],
   "source": [
    "def minutos_segundos(lista):\n",
    "    segundos = (int(lista[0]) * 3600) + int(lista[1] * 60) + int(lista[2])\n",
    "    return segundos"
   ]
  },
  {
   "cell_type": "markdown",
   "metadata": {},
   "source": [
    "---"
   ]
  },
  {
   "cell_type": "markdown",
   "metadata": {},
   "source": [
    "Rupturas da linha de defesa"
   ]
  },
  {
   "cell_type": "code",
   "execution_count": null,
   "metadata": {},
   "outputs": [],
   "source": [
    "def infos_ruptura(json, times_id):\n",
    "    dict_rupturas_time_x = {}\n",
    "    dict_rupturas_time_y = {}\n",
    "\n",
    "    for id in times_id:\n",
    "        n_ruptura = 0\n",
    "        rupturas = json[\"time\"][f\"{id}\"][\"rupturas\"]\n",
    "\n",
    "        for ruptura in rupturas:\n",
    "            n_ruptura += 1\n",
    "            instante_ruptura = ruptura[\"instante_ruptura\"]\n",
    "\n",
    "            # Verifica em qual tempo do jogo a ruptura ocorreu\n",
    "            lista_instante_ruptura = instante_ruptura.split(\":\")\n",
    "            segundos = minutos_segundos(lista_instante_ruptura)\n",
    "            if segundos <= 2700:\n",
    "                tempo = \"1º T\"\n",
    "            else:\n",
    "                tempo = \"2º T\"\n",
    "\n",
    "            # Informações sobre a ruptura\n",
    "            infos = {\n",
    "                \"logo\": json[\"time\"][f\"{id}\"][\"logo\"],\n",
    "                \"instante_ruptura\": ruptura[\"instante_ruptura\"],\n",
    "                \"tempo\": tempo,\n",
    "                \"desfecho\": ruptura[\"desfecho\"],\n",
    "                \"zona\": ruptura[\"zona_defesa\"],\n",
    "                \"posse_bola\": ruptura[\"nome_jogador_posse_bola\"],\n",
    "                \"jogador_em_ruptura\": ruptura[\"nome_jogador_ruptura\"],\n",
    "                \"jogadores_defesa\": ruptura[\"nomes_jogadores_defesa\"],\n",
    "            }\n",
    "\n",
    "            # Adiciona as informações no dicionário\n",
    "            if id == 1:\n",
    "                dict_rupturas_time_x[f\"ruptura_{n_ruptura}\"] = infos\n",
    "            else:\n",
    "                dict_rupturas_time_y[f\"ruptura_{n_ruptura}\"] = infos\n",
    "\n",
    "    return dict_rupturas_time_x, dict_rupturas_time_y"
   ]
  },
  {
   "cell_type": "markdown",
   "metadata": {},
   "source": [
    "---"
   ]
  },
  {
   "cell_type": "markdown",
   "metadata": {},
   "source": [
    "Top 5 Jogadores com mais rupturas"
   ]
  },
  {
   "cell_type": "code",
   "execution_count": null,
   "metadata": {},
   "outputs": [],
   "source": [
    "def top_5_rupturas(json, time_id):\n",
    "    dict_top_5 = {}\n",
    "    top_5 = json[\"time\"][f\"{time_id}\"][\"top_5\"]\n",
    "\n",
    "    for jogador in top_5:\n",
    "        nome = jogador[\"nome\"]\n",
    "        n_rupturas = jogador[\"n_rupturas\"]\n",
    "\n",
    "        dict_top_5[nome] = n_rupturas\n",
    "    \n",
    "    return dict_top_5    "
   ]
  },
  {
   "cell_type": "markdown",
   "metadata": {},
   "source": [
    "---"
   ]
  },
  {
   "cell_type": "markdown",
   "metadata": {},
   "source": [
    "Gráfico de desfechos"
   ]
  },
  {
   "cell_type": "code",
   "execution_count": 3,
   "metadata": {},
   "outputs": [],
   "source": [
    "def grafico_desfechos_quebra_linha(json, time_id):\n",
    "    desfechos = json[\"time\"][f\"{time_id}\"][\"desfechos\"]\n",
    "    desfecho = []\n",
    "    n_rupturas = []\n",
    "\n",
    "    for tipo, quantidade in desfechos.items():\n",
    "        desfecho.append(tipo)\n",
    "        n_rupturas.append(quantidade)\n",
    "\n",
    "    # Fazendo o gráfico com o Plotly\n",
    "    df = pd.DataFrame(dict(\n",
    "        desfecho=desfecho,\n",
    "        n_rupturas=n_rupturas\n",
    "        ))\n",
    "    \n",
    "    fig = px.pie(df, values='n_rupturas', names='desfecho', title='Desfechos das Rupturas')\n",
    "\n",
    "    return fig"
   ]
  },
  {
   "cell_type": "markdown",
   "metadata": {},
   "source": [
    "---"
   ]
  },
  {
   "cell_type": "markdown",
   "metadata": {},
   "source": [
    "---"
   ]
  },
  {
   "cell_type": "markdown",
   "metadata": {},
   "source": [
    "Cruzamentos"
   ]
  },
  {
   "cell_type": "code",
   "execution_count": null,
   "metadata": {},
   "outputs": [],
   "source": [
    "def cruzamentos_por_time(json, times_id):\n",
    "    dict_cruzamentos_time_x = {}\n",
    "    dict_cruzamentos_time_y = {}\n",
    "\n",
    "    for id in times_id:\n",
    "        n_cruzamento = 0\n",
    "        cruzamentos = json[\"time\"][f\"{id}\"][\"rupturas\"]\n",
    "\n",
    "        for cruzamento in cruzamentos:\n",
    "            n_cruzamento += 1\n",
    "\n",
    "            instante_cruzamento = cruzamento[\"instante_cruzamento\"]\n",
    "\n",
    "            # Verifica em qual tempo do jogo o cruzamento ocorreu\n",
    "            lista_instante_cruzamento = instante_cruzamento.split(\":\")\n",
    "            segundos = minutos_segundos(lista_instante_cruzamento)\n",
    "            if segundos <= 2700:\n",
    "                tempo = \"1º T\"\n",
    "            else:\n",
    "                tempo = \"2º T\"\n",
    "\n",
    "            # Informações sobre o cruzamento\n",
    "            infos = {\n",
    "                \"logo\": json[\"time\"][f\"{id}\"][\"logo\"],\n",
    "                \"instante_cruzamento\": cruzamento[\"instante_cruzamento\"],\n",
    "                \"tempo\": tempo,\n",
    "                \"desfecho\": cruzamento[\"desfecho\"],\n",
    "                \"zona\": cruzamento[\"zona\"],\n",
    "                \"atacantes\": cruzamento[\"nome_jogadores_time_cruzando\"],\n",
    "                \"defensores\": cruzamento[\"nome_jogadores_time_defendendo\"],\n",
    "            }\n",
    "\n",
    "            # Adiciona as informações no dicionário\n",
    "            if id == 1:\n",
    "                dict_cruzamentos_time_x[f\"cruzamento_{n_cruzamento}\"] = infos\n",
    "            else:\n",
    "                dict_cruzamentos_time_y[f\"cruzamento_{n_cruzamento}\"] = infos\n",
    "\n",
    "    return dict_cruzamentos_time_x, dict_cruzamentos_time_y"
   ]
  },
  {
   "cell_type": "markdown",
   "metadata": {},
   "source": [
    "---"
   ]
  },
  {
   "cell_type": "markdown",
   "metadata": {},
   "source": [
    "Frequência nas sub-zonas"
   ]
  },
  {
   "cell_type": "code",
   "execution_count": null,
   "metadata": {},
   "outputs": [],
   "source": [
    "def frequencia_subzonas(json, times_id):\n",
    "    dict_zonas_time_x = {}\n",
    "    dict_zonas_time_y = {}\n",
    "\n",
    "    for id in times_id:\n",
    "        cruzamentos = json[\"time\"][f\"{id}\"][\"rupturas\"]\n",
    "\n",
    "        if id == times_id[0]:\n",
    "            for zona in cruzamentos:\n",
    "                if zona[\"zona\"] not in dict_zonas_time_x:\n",
    "                    dict_zonas_time_x[zona[\"zona\"]] = 1\n",
    "                else:\n",
    "                    dict_zonas_time_x[zona[\"zona\"]] += 1\n",
    "        else:\n",
    "            for zona in cruzamentos:\n",
    "                if zona[\"zona\"] not in dict_zonas_time_y:\n",
    "                    dict_zonas_time_y[zona[\"zona\"]] = 1\n",
    "                else:\n",
    "                    dict_zonas_time_y[zona[\"zona\"]] += 1\n",
    "\n",
    "    return dict_zonas_time_x, dict_zonas_time_y"
   ]
  },
  {
   "cell_type": "markdown",
   "metadata": {},
   "source": [
    "---"
   ]
  },
  {
   "cell_type": "markdown",
   "metadata": {},
   "source": [
    "Gráfico de desfechos dos cruzamentos"
   ]
  },
  {
   "cell_type": "code",
   "execution_count": null,
   "metadata": {},
   "outputs": [],
   "source": [
    "def grafico_desfechos_cruzamentos(json, time_id):\n",
    "    desfecho = json[\"time\"][f\"{time_id}\"][\"rupturas\"]\n",
    "    desfechos = []\n",
    "    n_cruzamentos = []\n",
    "\n",
    "    for ruptura in desfecho:\n",
    "        if ruptura[\"desfecho\"] not in desfechos:\n",
    "            desfechos.append(ruptura[\"desfecho\"])\n",
    "            n_cruzamentos.append(1)\n",
    "        else:\n",
    "            n_cruzamentos[desfechos.index(ruptura[\"desfecho\"])] += 1\n",
    "\n",
    "    # Fazendo o gráfico com o Plotly\n",
    "    df = pd.DataFrame(dict(\n",
    "        desfecho=desfechos,\n",
    "        n_cruzamentos=n_cruzamentos\n",
    "        ))\n",
    "    \n",
    "    fig = px.pie(df, values='n_cruzamentos', names='desfecho', title='Desfechos dos Cruzamentos')\n",
    "\n",
    "    return fig"
   ]
  }
 ],
 "metadata": {
  "kernelspec": {
   "display_name": ".venv",
   "language": "python",
   "name": "python3"
  },
  "language_info": {
   "codemirror_mode": {
    "name": "ipython",
    "version": 3
   },
   "file_extension": ".py",
   "mimetype": "text/x-python",
   "name": "python",
   "nbconvert_exporter": "python",
   "pygments_lexer": "ipython3",
   "version": "3.11.1"
  }
 },
 "nbformat": 4,
 "nbformat_minor": 2
}
